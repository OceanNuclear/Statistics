{
 "cells": [
  {
   "cell_type": "code",
   "execution_count": null,
   "metadata": {},
   "outputs": [],
   "source": [
    "from PowersVerification import *\n",
    "\n",
    "%matplotlib inline\n",
    "from matplotlib import pyplot as plt\n",
    "\n",
    "#start with two independent distributions\n",
    "y_true_mean = 30\n",
    "y_true_vari = 0.9\n",
    "\n",
    "# take this many samples\n",
    "sampleLength=900000\n",
    "# rn.seed(1954)\n",
    "\n",
    "Y = distribution(y_true_mean,y_true_vari)\n",
    "ONE=distribution(1,0)\n",
    "EmpiricalSamples = [1/Y.sample() for n in range(sampleLength)]\n",
    "\n",
    "newDist = ONE/Y\n",
    "ExpectedSamples = [newDist.sample() for n in range(sampleLength)]\n",
    "fig, ax = plt.subplots()\n",
    "y_emp, x_vals, _ = ax.hist(EmpiricalSamples,bins = 200, alpha = 0.5, label =\"empirically calculated\\ndistribution, by\\ninverting samples\\nof B\")\n",
    "y_cal, x_vals, _ = ax.hist(ExpectedSamples, bins = 200, alpha = 0.5,label=\"new distribution\\ngenerated using\\nthe rules of\\n\"+r\"$\\sigma^2(\\frac{1}{B})$\"+\"\\n= \"+r\"$\\frac{1}{B^4} \\sigma^2$(B)\")\n",
    "\n",
    "ax2 = ax.twinx() # plot a second time on this graph\n",
    "transformed_PDF = [Y.P(1/x_0) for x_0 in x_vals] \n",
    "\n",
    "df_inv = abs(np.diff(1/x_vals)) # calculates the derivative\n",
    "scaled_transformed_PDF = df_inv*transformed_PDF[:-1] # (must match the lengths, so transformed_PDF is clipped)\n",
    "#print(scaled_transformed_PDF)\n",
    "ax2.plot(x_vals[:-1], scaled_transformed_PDF, label = \"PDF after\\ntransformation\")\n",
    "ax2.set_ylim(0,max(scaled_transformed_PDF))\n",
    "ax.legend()\n",
    "plt.show()"
   ]
  }
 ],
 "metadata": {
  "kernelspec": {
   "display_name": "Python 3",
   "language": "python",
   "name": "python3"
  },
  "language_info": {
   "codemirror_mode": {
    "name": "ipython",
    "version": 3
   },
   "file_extension": ".py",
   "mimetype": "text/x-python",
   "name": "python",
   "nbconvert_exporter": "python",
   "pygments_lexer": "ipython3",
   "version": "3.8.2"
  }
 },
 "nbformat": 4,
 "nbformat_minor": 4
}
